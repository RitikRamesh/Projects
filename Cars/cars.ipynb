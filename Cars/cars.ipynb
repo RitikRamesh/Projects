{
 "cells": [
  {
   "cell_type": "code",
   "execution_count": 1,
   "metadata": {},
   "outputs": [],
   "source": [
    "import numpy as np\n",
    "import pandas as pd"
   ]
  },
  {
   "cell_type": "code",
   "execution_count": 2,
   "metadata": {},
   "outputs": [],
   "source": [
    "df=pd.read_csv('Car.csv')"
   ]
  },
  {
   "cell_type": "code",
   "execution_count": 3,
   "metadata": {},
   "outputs": [],
   "source": [
    "df=df.dropna()"
   ]
  },
  {
   "cell_type": "code",
   "execution_count": 4,
   "metadata": {},
   "outputs": [
    {
     "data": {
      "text/plain": [
       "5.0     6254\n",
       "7.0     1120\n",
       "8.0      235\n",
       "4.0      133\n",
       "9.0       80\n",
       "6.0       62\n",
       "10.0      19\n",
       "2.0        2\n",
       "14.0       1\n",
       "Name: seats, dtype: int64"
      ]
     },
     "execution_count": 4,
     "metadata": {},
     "output_type": "execute_result"
    }
   ],
   "source": [
    "#SEATS\n",
    "df['seats'].value_counts()"
   ]
  },
  {
   "cell_type": "code",
   "execution_count": 5,
   "metadata": {},
   "outputs": [],
   "source": [
    "# TORQUE\n",
    "df['torque']\n",
    "# we cannot simplify it so have to drop it\n",
    "df=df.drop(columns='torque')\n",
    "df=df.reset_index(drop=True)"
   ]
  },
  {
   "cell_type": "code",
   "execution_count": 6,
   "metadata": {},
   "outputs": [],
   "source": [
    "#MAXPOWER\n",
    "df['max_power']=df['max_power'].apply(lambda x:x.split()[0])\n",
    "# df['max_power']=df['max_power'].astype('float64')                       # error is being shown\n",
    "# because entries have some incorect values in dataset.\n",
    "ind=[]\n",
    "for i in range(len(df)):\n",
    "    try:\n",
    "        float(df.loc[i,'max_power'])                                    #type:ignore\n",
    "    except:\n",
    "        ind.append(i)\n",
    "df=df.drop(index=ind)\n",
    "df=df.reset_index(drop=True)\n",
    "df['max_power']=df['max_power'].astype('float64')"
   ]
  },
  {
   "cell_type": "code",
   "execution_count": 7,
   "metadata": {},
   "outputs": [],
   "source": [
    "# ENGINE\n",
    "df['engine']=df['engine'].apply(lambda x:x.split()[0])\n",
    "# df['engine']=df['engine'].astype('float64')                       # error is being shown\n",
    "# because entries have some incorect values in dataset.\n",
    "ind=[]\n",
    "for i in range(len(df)):\n",
    "    try:\n",
    "        float(df.loc[i,'engine'])                                    #type:ignore\n",
    "    except:\n",
    "        ind.append(i)\n",
    "df=df.drop(index=ind)\n",
    "df=df.reset_index(drop=True)\n",
    "df['engine']=df['engine'].astype('float64')"
   ]
  },
  {
   "cell_type": "code",
   "execution_count": 8,
   "metadata": {},
   "outputs": [],
   "source": [
    "#MILEAGE\n",
    "df['mileage']=df['mileage'].apply(lambda x:x.split()[0])\n",
    "df['mileage']=df['mileage'].astype('float64')"
   ]
  },
  {
   "cell_type": "code",
   "execution_count": 9,
   "metadata": {},
   "outputs": [
    {
     "data": {
      "text/plain": [
       "First Owner             5214\n",
       "Second Owner            2015\n",
       "Third Owner              510\n",
       "Fourth & Above Owner     160\n",
       "Test Drive Car             5\n",
       "Name: owner, dtype: int64"
      ]
     },
     "execution_count": 9,
     "metadata": {},
     "output_type": "execute_result"
    }
   ],
   "source": [
    "# # OWNER\n",
    "df['owner'].value_counts()\n",
    "df['owner']=df['owner'].replace({'Fifth' :'Fourth & Above Owner'})\n",
    "df['owner'].value_counts()"
   ]
  },
  {
   "cell_type": "code",
   "execution_count": 10,
   "metadata": {},
   "outputs": [],
   "source": [
    "f=df['owner']=='Test Drive Car'\n",
    "df=df.drop(index=df[f].index)\n",
    "df=df.reset_index(drop=True)"
   ]
  },
  {
   "cell_type": "code",
   "execution_count": 11,
   "metadata": {},
   "outputs": [
    {
     "data": {
      "text/plain": [
       "Manual       6862\n",
       "Automatic    1037\n",
       "Name: transmission, dtype: int64"
      ]
     },
     "execution_count": 11,
     "metadata": {},
     "output_type": "execute_result"
    }
   ],
   "source": [
    "#TRANSMISSION\n",
    "df['transmission'].value_counts()"
   ]
  },
  {
   "cell_type": "code",
   "execution_count": 12,
   "metadata": {},
   "outputs": [
    {
     "data": {
      "text/plain": [
       "Diesel    4298\n",
       "Petrol    3514\n",
       "CNG         52\n",
       "LPG         35\n",
       "Name: fuel, dtype: int64"
      ]
     },
     "execution_count": 12,
     "metadata": {},
     "output_type": "execute_result"
    }
   ],
   "source": [
    "#FUEL\n",
    "df['fuel'].value_counts()"
   ]
  },
  {
   "cell_type": "code",
   "execution_count": 13,
   "metadata": {},
   "outputs": [
    {
     "data": {
      "image/png": "[encoded data removed]",
      "text/plain": [
       "<Figure size 432x288 with 1 Axes>"
      ]
     },
     "metadata": {
      "needs_background": "light"
     },
     "output_type": "display_data"
    }
   ],
   "source": [
    "import matplotlib.pyplot as plt\n",
    "plt.violinplot(df.loc[df['fuel']=='Diesel','selling_price'])\n",
    "plt.title('Diesel')\n",
    "plt.show()"
   ]
  },
  {
   "cell_type": "code",
   "execution_count": 14,
   "metadata": {},
   "outputs": [
    {
     "data": {
      "image/png": "[encoded data removed]",
      "text/plain": [
       "<Figure size 432x288 with 1 Axes>"
      ]
     },
     "metadata": {
      "needs_background": "light"
     },
     "output_type": "display_data"
    }
   ],
   "source": [
    "plt.violinplot(df.loc[df['fuel']=='Petrol','selling_price'])\n",
    "plt.title('Petrol')\n",
    "plt.show()"
   ]
  },
  {
   "cell_type": "code",
   "execution_count": 15,
   "metadata": {},
   "outputs": [
    {
     "data": {
      "image/png": "[encoded data removed]",
      "text/plain": [
       "<Figure size 432x288 with 1 Axes>"
      ]
     },
     "metadata": {
      "needs_background": "light"
     },
     "output_type": "display_data"
    }
   ],
   "source": [
    "plt.violinplot(df.loc[df['fuel']=='CNG','selling_price'])\n",
    "plt.title('CNG')\n",
    "plt.show()"
   ]
  },
  {
   "cell_type": "code",
   "execution_count": 16,
   "metadata": {},
   "outputs": [
    {
     "data": {
      "image/png": "[encoded data removed]",
      "text/plain": [
       "<Figure size 432x288 with 1 Axes>"
      ]
     },
     "metadata": {
      "needs_background": "light"
     },
     "output_type": "display_data"
    }
   ],
   "source": [
    "plt.violinplot(df.loc[df['fuel']=='LPG','selling_price'])\n",
    "plt.title('LPG')\n",
    "plt.show()"
   ]
  },
  {
   "cell_type": "code",
   "execution_count": 17,
   "metadata": {},
   "outputs": [],
   "source": [
    "df['fuel']=df['fuel'].replace({'Petrol':0,'Diesel':0,'CNG':1,'LPG':1})\n",
    "# We do this because of same distribution of Categories."
   ]
  },
  {
   "cell_type": "code",
   "execution_count": 18,
   "metadata": {},
   "outputs": [],
   "source": [
    "# Categorical ---->  dependent\n",
    "# Numeric   ---->scatter\n",
    "# Categorical -----> check ratio of each category in one column to another column."
   ]
  },
  {
   "cell_type": "code",
   "execution_count": 19,
   "metadata": {},
   "outputs": [
    {
     "data": {
      "text/plain": [
       "Maruti Swift     729\n",
       "Maruti Alto      418\n",
       "Hyundai i20      341\n",
       "Maruti Wagon     281\n",
       "Toyota Innova    235\n",
       "                ... \n",
       "Tata Winger        1\n",
       "Opel Astra         1\n",
       "Ashok Leyland      1\n",
       "BMW X7             1\n",
       "Volvo XC90         1\n",
       "Name: name, Length: 200, dtype: int64"
      ]
     },
     "execution_count": 19,
     "metadata": {},
     "output_type": "execute_result"
    }
   ],
   "source": [
    "df['name']=df['name'].apply(lambda x:x.split()[0]+' '+ x.split()[1])\n",
    "df['name'].value_counts()"
   ]
  },
  {
   "cell_type": "code",
   "execution_count": 20,
   "metadata": {},
   "outputs": [
    {
     "data": {
      "text/plain": [
       "Maruti           2366\n",
       "Hyundai          1359\n",
       "Mahindra          758\n",
       "Tata              719\n",
       "Honda             465\n",
       "Toyota            452\n",
       "Ford              388\n",
       "Chevrolet         230\n",
       "Renault           228\n",
       "Volkswagen        184\n",
       "BMW               118\n",
       "Skoda             104\n",
       "Nissan             81\n",
       "Jaguar             71\n",
       "Volvo              67\n",
       "Datsun             65\n",
       "Mercedes-Benz      54\n",
       "Fiat               41\n",
       "Audi               37\n",
       "Lexus              34\n",
       "Jeep               31\n",
       "Mitsubishi         14\n",
       "Force               6\n",
       "Land                6\n",
       "Isuzu               5\n",
       "Kia                 4\n",
       "Ambassador          4\n",
       "Daewoo              3\n",
       "MG                  3\n",
       "Ashok               1\n",
       "Opel                1\n",
       "Name: name, dtype: int64"
      ]
     },
     "execution_count": 20,
     "metadata": {},
     "output_type": "execute_result"
    }
   ],
   "source": [
    "df['name']=df['name'].apply(lambda x:x.split()[0])\n",
    "df['name'].value_counts()"
   ]
  },
  {
   "cell_type": "code",
   "execution_count": 21,
   "metadata": {},
   "outputs": [],
   "source": [
    "# Make graph of 10 brand selling price(selling)"
   ]
  },
  {
   "cell_type": "code",
   "execution_count": 22,
   "metadata": {},
   "outputs": [],
   "source": [
    "groups=df.groupby(by='name')\n",
    "mean_prices=groups['selling_price'].mean().sort_values(ascending=False)"
   ]
  },
  {
   "cell_type": "code",
   "execution_count": 23,
   "metadata": {},
   "outputs": [],
   "source": [
    "# 16  31      2\n",
    "\n",
    "# 6   16      1\n",
    "\n",
    "# 0  5       0"
   ]
  },
  {
   "cell_type": "code",
   "execution_count": 24,
   "metadata": {},
   "outputs": [],
   "source": [
    "for i in range(len(df)):\n",
    "    if df.loc[i,'name'] in mean_prices[16:31]:\n",
    "        df.loc[i,'name']=2\n",
    "    elif df.loc[i,'name'] in mean_prices[5:16]:\n",
    "        df.loc[i,'name']=1\n",
    "    else:\n",
    "        df.loc[i,'name']=0\n",
    "        \n",
    "df['name']=df['name'].astype('int32')  "
   ]
  },
  {
   "cell_type": "code",
   "execution_count": 25,
   "metadata": {},
   "outputs": [],
   "source": [
    "# Important   Feature selection\n",
    "# Independent   Dependent\n",
    "# Numeric       Numeric                 Pearson Correlation\n",
    "# Numeric       Categorical             Anova F value(Analysis of Variance)\n",
    "# Categorical   Numeric                 Anova F value(Analysis of Variance)\n",
    "# Categorical   Categorical             Chi Square Test"
   ]
  },
  {
   "cell_type": "code",
   "execution_count": 26,
   "metadata": {},
   "outputs": [],
   "source": [
    "numeric = df[['year','selling_price','km_driven','mileage','engine','max_power']]\n",
    "categorical = df[['name','seller_type','transmission','owner','seats']]"
   ]
  },
  {
   "cell_type": "code",
   "execution_count": 27,
   "metadata": {},
   "outputs": [
    {
     "name": "stderr",
     "output_type": "stream",
     "text": [
      "<ipython-input-27-c60ae8a9e654>:4: SettingWithCopyWarning: \n",
      "A value is trying to be set on a copy of a slice from a DataFrame.\n",
      "Try using .loc[row_indexer,col_indexer] = value instead\n",
      "\n",
      "See the caveats in the documentation: https://pandas.pydata.org/pandas-docs/stable/user_guide/indexing.html#returning-a-view-versus-a-copy\n",
      "  categorical['owner']=le.fit_transform(categorical['owner'])\n",
      "<ipython-input-27-c60ae8a9e654>:5: SettingWithCopyWarning: \n",
      "A value is trying to be set on a copy of a slice from a DataFrame.\n",
      "Try using .loc[row_indexer,col_indexer] = value instead\n",
      "\n",
      "See the caveats in the documentation: https://pandas.pydata.org/pandas-docs/stable/user_guide/indexing.html#returning-a-view-versus-a-copy\n",
      "  categorical['transmission']=lo.fit_transform(categorical['transmission'])\n"
     ]
    }
   ],
   "source": [
    "from sklearn.preprocessing import LabelEncoder\n",
    "le=LabelEncoder()\n",
    "lo=LabelEncoder()\n",
    "categorical['owner']=le.fit_transform(categorical['owner'])\n",
    "categorical['transmission']=lo.fit_transform(categorical['transmission'])"
   ]
  },
  {
   "cell_type": "code",
   "execution_count": 28,
   "metadata": {},
   "outputs": [],
   "source": [
    "from sklearn.preprocessing import OneHotEncoder\n",
    "from sklearn.compose import ColumnTransformer\n",
    "ct=ColumnTransformer([('encode',OneHotEncoder(),[1])],remainder='passthrough')\n",
    "categorical=ct.fit_transform(categorical)"
   ]
  },
  {
   "cell_type": "code",
   "execution_count": 29,
   "metadata": {},
   "outputs": [
    {
     "data": {
      "image/png": "[encoded data removed]",
      "text/plain": [
       "<Figure size 432x288 with 2 Axes>"
      ]
     },
     "metadata": {
      "needs_background": "light"
     },
     "output_type": "display_data"
    }
   ],
   "source": [
    "import seaborn as sns\n",
    "corr=numeric.corr()\n",
    "sns.heatmap(corr)\n",
    "plt.show()"
   ]
  },
  {
   "cell_type": "code",
   "execution_count": 31,
   "metadata": {},
   "outputs": [],
   "source": [
    "#correlation ----> tells amount of relation between 2 columns and its direction\n",
    "# if corr value is vey low (eg -- 0.0001)   -------> drop it."
   ]
  },
  {
   "cell_type": "code",
   "execution_count": 32,
   "metadata": {},
   "outputs": [],
   "source": [
    "# chi square test \n",
    "# categorical   numeric   --- Anova test"
   ]
  },
  {
   "cell_type": "code",
   "execution_count": 33,
   "metadata": {},
   "outputs": [
    {
     "data": {
      "text/plain": [
       "array([ 7.28246783,  6.988322  ,  6.69782293, 14.71528404, 12.03276301,\n",
       "        3.40499271,  2.66180735])"
      ]
     },
     "execution_count": 33,
     "metadata": {},
     "output_type": "execute_result"
    }
   ],
   "source": [
    "from sklearn.feature_selection import SelectKBest, f_classif\n",
    "# SelectKBest ---> algorithm apply ----> top n columns.\n",
    "select=SelectKBest(f_classif,k=categorical.shape[1])\n",
    "X_new=select.fit_transform(categorical,numeric['selling_price'])\n",
    "select.scores_"
   ]
  },
  {
   "cell_type": "code",
   "execution_count": 36,
   "metadata": {},
   "outputs": [],
   "source": [
    "# seats in car\n",
    "# Step 1\n",
    "# 5 ----> selling price(sum of square(average)) s1          distance of every point from center Eucledian\n",
    "# 7 ---->  s2\n",
    "# 10 ----> s3\n",
    "# Step 2\n",
    "# Degree of freedom     ----> total no. of independent points.\n",
    "# Step 3 \n",
    "# v1   -----> s1+s2+s3/3/dof\n",
    "# v2   -----> sum of squarer within groups              dof---->2\n",
    "# Step 4\n",
    "# v1/v2     ----> F value\n",
    "# F value if categories are independent or not"
   ]
  },
  {
   "cell_type": "code",
   "execution_count": 35,
   "metadata": {},
   "outputs": [],
   "source": [
    "# Hypothesis test ------> we assume\n",
    "# H0: p_value < 0.05     Both columns is independenet\n",
    "# H1: p_value > 0.05     Both columns is dependent"
   ]
  },
  {
   "cell_type": "code",
   "execution_count": 37,
   "metadata": {},
   "outputs": [],
   "source": [
    "# Outliers\n",
    "# First case ----> Data follows Normal Distribution         ----> Z-score, IQR Curve\n",
    "# Second case ----> Data follows Non-Gaussian Distribution  ----> DBSCAN Density Based Spatial Clustering Application for Noise"
   ]
  },
  {
   "cell_type": "code",
   "execution_count": 38,
   "metadata": {},
   "outputs": [
    {
     "data": {
      "image/png": "[encoded data removed]",
      "text/plain": [
       "<Figure size 432x288 with 1 Axes>"
      ]
     },
     "metadata": {
      "needs_background": "light"
     },
     "output_type": "display_data"
    },
    {
     "data": {
      "image/png": "[encoded data removed]",
      "text/plain": [
       "<Figure size 432x288 with 1 Axes>"
      ]
     },
     "metadata": {
      "needs_background": "light"
     },
     "output_type": "display_data"
    },
    {
     "data": {
      "image/png": "[encoded data removed]",
      "text/plain": [
       "<Figure size 432x288 with 1 Axes>"
      ]
     },
     "metadata": {
      "needs_background": "light"
     },
     "output_type": "display_data"
    },
    {
     "data": {
      "image/png": "[encoded data removed]",
      "text/plain": [
       "<Figure size 432x288 with 1 Axes>"
      ]
     },
     "metadata": {
      "needs_background": "light"
     },
     "output_type": "display_data"
    },
    {
     "data": {
      "image/png": "[encoded data removed]",
      "text/plain": [
       "<Figure size 432x288 with 1 Axes>"
      ]
     },
     "metadata": {
      "needs_background": "light"
     },
     "output_type": "display_data"
    },
    {
     "data": {
      "image/png": "[encoded data removed]",
      "text/plain": [
       "<Figure size 432x288 with 1 Axes>"
      ]
     },
     "metadata": {
      "needs_background": "light"
     },
     "output_type": "display_data"
    }
   ],
   "source": [
    "for x in numeric.columns:\n",
    "    plt.hist(numeric[x])\n",
    "    plt.title(x)\n",
    "    plt.show()"
   ]
  },
  {
   "cell_type": "code",
   "execution_count": 40,
   "metadata": {},
   "outputs": [],
   "source": [
    "#  if our data is normal distribution then our 99% data is lying in first 3 std deviation"
   ]
  },
  {
   "cell_type": "code",
   "execution_count": 41,
   "metadata": {},
   "outputs": [],
   "source": [
    "# z score \n",
    "# x - xmean/std dev\n",
    "# z score tells us where our data is lying in which std dev\n",
    "# if comes greater than 3 then it is outlier"
   ]
  },
  {
   "cell_type": "code",
   "execution_count": 45,
   "metadata": {},
   "outputs": [],
   "source": [
    "def zscore(x):\n",
    "    mean=np.mean(x)\n",
    "    std=np.std(x)\n",
    "    z=(x-mean)/std\n",
    "    z=z.abs()\n",
    "    return x[z>3]\n",
    "outliers1=zscore(numeric['mileage'])\n",
    "outliers2=zscore(numeric['km_driven'])\n",
    "outliers3=zscore(numeric['max_power'])"
   ]
  },
  {
   "cell_type": "code",
   "execution_count": 47,
   "metadata": {},
   "outputs": [],
   "source": [
    "# Remove outliers from last data"
   ]
  },
  {
   "cell_type": "code",
   "execution_count": 58,
   "metadata": {},
   "outputs": [],
   "source": [
    "# do min max scaling before dbscan"
   ]
  },
  {
   "cell_type": "code",
   "execution_count": 69,
   "metadata": {},
   "outputs": [],
   "source": [
    "from sklearn.preprocessing import MinMaxScaler\n",
    "minmax=MinMaxScaler()\n",
    "data=minmax.fit_transform(numeric[['engine','selling_price']])\n",
    "from sklearn.neighbors import NearestNeighbors\n",
    "neigh = NearestNeighbors(n_neighbors=2)\n",
    "nbrs=neigh.fit(data)\n",
    "\n",
    "dis,ind=nbrs.kneighbors(data)\n",
    "dis=np.sort(dis,axis=0)\n",
    "dis=dis[:,1]"
   ]
  },
  {
   "cell_type": "code",
   "execution_count": 73,
   "metadata": {},
   "outputs": [
    {
     "data": {
      "image/png": "[encoded data removed]",
      "text/plain": [
       "<Figure size 432x288 with 1 Axes>"
      ]
     },
     "metadata": {
      "needs_background": "light"
     },
     "output_type": "display_data"
    }
   ],
   "source": [
    "plt.plot(dis)\n",
    "plt.show()"
   ]
  },
  {
   "cell_type": "code",
   "execution_count": 70,
   "metadata": {},
   "outputs": [
    {
     "data": {
      "text/plain": [
       "array([0, 0, 0, ..., 0, 0, 0])"
      ]
     },
     "execution_count": 70,
     "metadata": {},
     "output_type": "execute_result"
    }
   ],
   "source": [
    "# DBSCAN\n",
    "from sklearn.cluster import DBSCAN\n",
    "model=DBSCAN(eps=0.08,min_samples=10).fit(data)\n",
    "model.labels_"
   ]
  },
  {
   "cell_type": "code",
   "execution_count": 71,
   "metadata": {},
   "outputs": [
    {
     "data": {
      "image/png": "[encoded data removed]",
      "text/plain": [
       "<Figure size 432x288 with 1 Axes>"
      ]
     },
     "metadata": {
      "needs_background": "light"
     },
     "output_type": "display_data"
    }
   ],
   "source": [
    "plt.scatter(data[:,0],data[:,1],c=model.labels_)\n",
    "plt.show()"
   ]
  },
  {
   "cell_type": "code",
   "execution_count": 72,
   "metadata": {},
   "outputs": [],
   "source": [
    "outliers4=data[model.labels_==-1]"
   ]
  },
  {
   "cell_type": "code",
   "execution_count": 74,
   "metadata": {},
   "outputs": [],
   "source": [
    "#Join mumeric and caterical data\n",
    "#Remove outliers\n",
    "#Seprate independent and dependent\n",
    "# Scale\n",
    "# Training\n",
    "# Testing\n",
    "# Prediction"
   ]
  }
 ],
 "metadata": {
  "kernelspec": {
   "display_name": "mlp",
   "language": "python",
   "name": "python3"
  },
  "language_info": {
   "codemirror_mode": {
    "name": "ipython",
    "version": 3
   },
   "file_extension": ".py",
   "mimetype": "text/x-python",
   "name": "python",
   "nbconvert_exporter": "python",
   "pygments_lexer": "ipython3",
   "version": "3.8.16"
  },
  "orig_nbformat": 4
 },
 "nbformat": 4,
 "nbformat_minor": 2
}
