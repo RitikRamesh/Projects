{
 "cells": [
  {
   "cell_type": "code",
   "execution_count": 1,
   "metadata": {},
   "outputs": [],
   "source": [
    "import pandas as pd\n",
    "import numpy as np\n",
    "import tensorflow as tf"
   ]
  },
  {
   "attachments": {},
   "cell_type": "markdown",
   "metadata": {},
   "source": [
    "# preprocessing"
   ]
  },
  {
   "attachments": {},
   "cell_type": "markdown",
   "metadata": {},
   "source": [
    "# data generator"
   ]
  },
  {
   "attachments": {},
   "cell_type": "markdown",
   "metadata": {},
   "source": [
    "data augmentation --> increase data with help of previous data."
   ]
  },
  {
   "attachments": {},
   "cell_type": "markdown",
   "metadata": {},
   "source": [
    "Preprocessing the train"
   ]
  },
  {
   "cell_type": "code",
   "execution_count": 2,
   "metadata": {},
   "outputs": [
    {
     "name": "stdout",
     "output_type": "stream",
     "text": [
      "Found 1314 images belonging to 2 classes.\n"
     ]
    }
   ],
   "source": [
    "train_datagen = tf.keras.preprocessing.image.ImageDataGenerator(zoom_range=0.2,\n",
    "                                                                rotation_range=0.2, #type:ignore\n",
    "                                                                shear_range=0.2,\n",
    "                                                                horizontal_flip=True,\n",
    "                                                                rescale=1/255)\n",
    "train_dataset = train_datagen.flow_from_directory('train',target_size=(150,150),\n",
    "                                                 class_mode='binary',\n",
    "                                                 batch_size=16)"
   ]
  },
  {
   "cell_type": "markdown",
   "metadata": {},
   "source": [
    "Preprocessing the test"
   ]
  },
  {
   "cell_type": "code",
   "execution_count": 3,
   "metadata": {},
   "outputs": [
    {
     "name": "stdout",
     "output_type": "stream",
     "text": [
      "Found 194 images belonging to 2 classes.\n"
     ]
    }
   ],
   "source": [
    "test_datagen = tf.keras.preprocessing.image.ImageDataGenerator(rescale=1/255)\n",
    "test_dataset = test_datagen.flow_from_directory('test',target_size=(150,150),\n",
    "                                                 class_mode='binary',\n",
    "                                                 batch_size=16)"
   ]
  },
  {
   "cell_type": "code",
   "execution_count": 4,
   "metadata": {},
   "outputs": [
    {
     "name": "stdout",
     "output_type": "stream",
     "text": [
      "Epoch 1/100\n",
      "83/83 [==============================] - 10s 85ms/step - loss: 0.6513 - accuracy: 0.8318 - val_loss: 0.1902 - val_accuracy: 0.9175\n",
      "Epoch 2/100\n",
      "83/83 [==============================] - 6s 75ms/step - loss: 0.2022 - accuracy: 0.9277 - val_loss: 0.1676 - val_accuracy: 0.9330\n",
      "Epoch 3/100\n",
      "83/83 [==============================] - 6s 74ms/step - loss: 0.1519 - accuracy: 0.9414 - val_loss: 0.1580 - val_accuracy: 0.9433\n",
      "Epoch 4/100\n",
      "83/83 [==============================] - 6s 72ms/step - loss: 0.1204 - accuracy: 0.9521 - val_loss: 0.1885 - val_accuracy: 0.9278\n",
      "Epoch 5/100\n",
      "83/83 [==============================] - 6s 72ms/step - loss: 0.1306 - accuracy: 0.9505 - val_loss: 0.2803 - val_accuracy: 0.9278\n",
      "Epoch 6/100\n",
      "83/83 [==============================] - 6s 73ms/step - loss: 0.1160 - accuracy: 0.9589 - val_loss: 0.2797 - val_accuracy: 0.8814\n",
      "Epoch 7/100\n",
      "83/83 [==============================] - 6s 73ms/step - loss: 0.1053 - accuracy: 0.9635 - val_loss: 0.1390 - val_accuracy: 0.9588\n",
      "Epoch 8/100\n",
      "83/83 [==============================] - 6s 71ms/step - loss: 0.0827 - accuracy: 0.9756 - val_loss: 0.1341 - val_accuracy: 0.9588\n",
      "Epoch 9/100\n",
      "83/83 [==============================] - 6s 70ms/step - loss: 0.1257 - accuracy: 0.9498 - val_loss: 0.4576 - val_accuracy: 0.8660\n",
      "Epoch 10/100\n",
      "83/83 [==============================] - 6s 70ms/step - loss: 0.1428 - accuracy: 0.9642 - val_loss: 0.1228 - val_accuracy: 0.9691\n",
      "Epoch 11/100\n",
      "83/83 [==============================] - 6s 70ms/step - loss: 0.1141 - accuracy: 0.9642 - val_loss: 0.2628 - val_accuracy: 0.9381\n",
      "Epoch 12/100\n",
      "83/83 [==============================] - 6s 71ms/step - loss: 0.1114 - accuracy: 0.9619 - val_loss: 0.1460 - val_accuracy: 0.9536\n",
      "Epoch 13/100\n",
      "83/83 [==============================] - 6s 72ms/step - loss: 0.0802 - accuracy: 0.9703 - val_loss: 0.1144 - val_accuracy: 0.9691\n",
      "Epoch 14/100\n",
      "83/83 [==============================] - 6s 72ms/step - loss: 0.0534 - accuracy: 0.9802 - val_loss: 0.2158 - val_accuracy: 0.9381\n",
      "Epoch 15/100\n",
      "83/83 [==============================] - 6s 71ms/step - loss: 0.0495 - accuracy: 0.9795 - val_loss: 0.1613 - val_accuracy: 0.9588\n",
      "Epoch 16/100\n",
      "83/83 [==============================] - 6s 73ms/step - loss: 0.0529 - accuracy: 0.9802 - val_loss: 0.1380 - val_accuracy: 0.9588\n",
      "Epoch 17/100\n",
      "83/83 [==============================] - 6s 72ms/step - loss: 0.0508 - accuracy: 0.9825 - val_loss: 0.1815 - val_accuracy: 0.9278\n",
      "Epoch 18/100\n",
      "83/83 [==============================] - 6s 72ms/step - loss: 0.0394 - accuracy: 0.9855 - val_loss: 0.0970 - val_accuracy: 0.9742\n",
      "Epoch 19/100\n",
      "83/83 [==============================] - 6s 72ms/step - loss: 0.0273 - accuracy: 0.9871 - val_loss: 0.1082 - val_accuracy: 0.9588\n",
      "Epoch 20/100\n",
      "83/83 [==============================] - 6s 73ms/step - loss: 0.0378 - accuracy: 0.9878 - val_loss: 0.1308 - val_accuracy: 0.9536\n",
      "Epoch 21/100\n",
      "83/83 [==============================] - 6s 72ms/step - loss: 0.0645 - accuracy: 0.9787 - val_loss: 0.1008 - val_accuracy: 0.9536\n",
      "Epoch 22/100\n",
      "83/83 [==============================] - 6s 71ms/step - loss: 0.0645 - accuracy: 0.9779 - val_loss: 0.2406 - val_accuracy: 0.9330\n",
      "Epoch 23/100\n",
      "83/83 [==============================] - 6s 70ms/step - loss: 0.1042 - accuracy: 0.9688 - val_loss: 0.2246 - val_accuracy: 0.9485\n",
      "Epoch 24/100\n",
      "83/83 [==============================] - 6s 69ms/step - loss: 0.0857 - accuracy: 0.9756 - val_loss: 0.1141 - val_accuracy: 0.9639\n",
      "Epoch 25/100\n",
      "83/83 [==============================] - 6s 70ms/step - loss: 0.2966 - accuracy: 0.9353 - val_loss: 0.9883 - val_accuracy: 0.8969\n",
      "Epoch 26/100\n",
      "83/83 [==============================] - 6s 70ms/step - loss: 0.3279 - accuracy: 0.9444 - val_loss: 0.2607 - val_accuracy: 0.9227\n",
      "Epoch 27/100\n",
      "83/83 [==============================] - 6s 70ms/step - loss: 0.0697 - accuracy: 0.9772 - val_loss: 0.2276 - val_accuracy: 0.9433\n",
      "Epoch 28/100\n",
      "83/83 [==============================] - 6s 71ms/step - loss: 0.0646 - accuracy: 0.9817 - val_loss: 0.1013 - val_accuracy: 0.9639\n",
      "Epoch 29/100\n",
      "83/83 [==============================] - 6s 71ms/step - loss: 0.0404 - accuracy: 0.9833 - val_loss: 0.1078 - val_accuracy: 0.9588\n",
      "Epoch 30/100\n",
      "83/83 [==============================] - 6s 71ms/step - loss: 0.0361 - accuracy: 0.9855 - val_loss: 0.0811 - val_accuracy: 0.9794\n",
      "Epoch 31/100\n",
      "83/83 [==============================] - 6s 70ms/step - loss: 0.0312 - accuracy: 0.9886 - val_loss: 0.1503 - val_accuracy: 0.9639\n",
      "Epoch 32/100\n",
      "83/83 [==============================] - 6s 71ms/step - loss: 0.0252 - accuracy: 0.9909 - val_loss: 0.1367 - val_accuracy: 0.9742\n",
      "Epoch 33/100\n",
      "83/83 [==============================] - 6s 71ms/step - loss: 0.0285 - accuracy: 0.9886 - val_loss: 0.1316 - val_accuracy: 0.9639\n",
      "Epoch 34/100\n",
      "83/83 [==============================] - 6s 70ms/step - loss: 0.0209 - accuracy: 0.9916 - val_loss: 0.1455 - val_accuracy: 0.9588\n",
      "Epoch 35/100\n",
      "83/83 [==============================] - 6s 70ms/step - loss: 0.0215 - accuracy: 0.9924 - val_loss: 0.2063 - val_accuracy: 0.9639\n",
      "Epoch 36/100\n",
      "83/83 [==============================] - 6s 72ms/step - loss: 0.0235 - accuracy: 0.9924 - val_loss: 0.2121 - val_accuracy: 0.9433\n",
      "Epoch 37/100\n",
      "83/83 [==============================] - 6s 71ms/step - loss: 0.0128 - accuracy: 0.9954 - val_loss: 0.1419 - val_accuracy: 0.9639\n",
      "Epoch 38/100\n",
      "83/83 [==============================] - 6s 70ms/step - loss: 0.0059 - accuracy: 0.9985 - val_loss: 0.1428 - val_accuracy: 0.9742\n",
      "Epoch 39/100\n",
      "83/83 [==============================] - 6s 71ms/step - loss: 0.0115 - accuracy: 0.9954 - val_loss: 0.1483 - val_accuracy: 0.9691\n",
      "Epoch 40/100\n",
      "83/83 [==============================] - 6s 70ms/step - loss: 0.0219 - accuracy: 0.9924 - val_loss: 0.1474 - val_accuracy: 0.9639\n",
      "Epoch 41/100\n",
      "83/83 [==============================] - 6s 71ms/step - loss: 0.0114 - accuracy: 0.9970 - val_loss: 0.1829 - val_accuracy: 0.9691\n",
      "Epoch 42/100\n",
      "83/83 [==============================] - 6s 70ms/step - loss: 0.0197 - accuracy: 0.9954 - val_loss: 0.1596 - val_accuracy: 0.9794\n",
      "Epoch 43/100\n",
      "83/83 [==============================] - 6s 73ms/step - loss: 0.0287 - accuracy: 0.9932 - val_loss: 0.1816 - val_accuracy: 0.9639\n",
      "Epoch 44/100\n",
      "83/83 [==============================] - 6s 71ms/step - loss: 0.0416 - accuracy: 0.9924 - val_loss: 0.1495 - val_accuracy: 0.9845\n",
      "Epoch 45/100\n",
      "83/83 [==============================] - 6s 70ms/step - loss: 0.1030 - accuracy: 0.9703 - val_loss: 0.1618 - val_accuracy: 0.9794\n",
      "Epoch 46/100\n",
      "83/83 [==============================] - 6s 71ms/step - loss: 0.1075 - accuracy: 0.9650 - val_loss: 0.1240 - val_accuracy: 0.9691\n",
      "Epoch 47/100\n",
      "83/83 [==============================] - 6s 71ms/step - loss: 0.1582 - accuracy: 0.9734 - val_loss: 0.5286 - val_accuracy: 0.9330\n",
      "Epoch 48/100\n",
      "83/83 [==============================] - 6s 71ms/step - loss: 0.0817 - accuracy: 0.9734 - val_loss: 0.2398 - val_accuracy: 0.9381\n",
      "Epoch 49/100\n",
      "83/83 [==============================] - 6s 71ms/step - loss: 0.0537 - accuracy: 0.9817 - val_loss: 0.2094 - val_accuracy: 0.9639\n",
      "Epoch 50/100\n",
      "83/83 [==============================] - 6s 70ms/step - loss: 0.0174 - accuracy: 0.9947 - val_loss: 0.1533 - val_accuracy: 0.9639\n",
      "Epoch 51/100\n",
      "83/83 [==============================] - 6s 71ms/step - loss: 0.0184 - accuracy: 0.9954 - val_loss: 0.1186 - val_accuracy: 0.9794\n",
      "Epoch 52/100\n",
      "83/83 [==============================] - 6s 72ms/step - loss: 0.0131 - accuracy: 0.9947 - val_loss: 0.1604 - val_accuracy: 0.9588\n",
      "Epoch 53/100\n",
      "83/83 [==============================] - 6s 72ms/step - loss: 0.0122 - accuracy: 0.9954 - val_loss: 0.1515 - val_accuracy: 0.9588\n",
      "Epoch 54/100\n",
      "83/83 [==============================] - 6s 75ms/step - loss: 0.0046 - accuracy: 0.9992 - val_loss: 0.1490 - val_accuracy: 0.9639\n",
      "Epoch 55/100\n",
      "83/83 [==============================] - 6s 74ms/step - loss: 0.0078 - accuracy: 0.9954 - val_loss: 0.1526 - val_accuracy: 0.9639\n",
      "Epoch 56/100\n",
      "83/83 [==============================] - 6s 68ms/step - loss: 0.0057 - accuracy: 0.9985 - val_loss: 0.1552 - val_accuracy: 0.9639\n",
      "Epoch 57/100\n",
      "83/83 [==============================] - 6s 71ms/step - loss: 0.0081 - accuracy: 0.9970 - val_loss: 0.1852 - val_accuracy: 0.9742\n",
      "Epoch 58/100\n",
      "83/83 [==============================] - 6s 72ms/step - loss: 0.0547 - accuracy: 0.9833 - val_loss: 0.1905 - val_accuracy: 0.9639\n",
      "Epoch 59/100\n",
      "83/83 [==============================] - 6s 74ms/step - loss: 0.0332 - accuracy: 0.9893 - val_loss: 0.3003 - val_accuracy: 0.9485\n",
      "Epoch 60/100\n",
      "83/83 [==============================] - 6s 72ms/step - loss: 0.0469 - accuracy: 0.9840 - val_loss: 0.1644 - val_accuracy: 0.9639\n",
      "Epoch 61/100\n",
      "83/83 [==============================] - 6s 72ms/step - loss: 0.0085 - accuracy: 0.9977 - val_loss: 0.1853 - val_accuracy: 0.9742\n",
      "Epoch 62/100\n",
      "83/83 [==============================] - 6s 72ms/step - loss: 0.0043 - accuracy: 0.9985 - val_loss: 0.1709 - val_accuracy: 0.9691\n",
      "Epoch 63/100\n",
      "83/83 [==============================] - 6s 72ms/step - loss: 0.0156 - accuracy: 0.9954 - val_loss: 0.2463 - val_accuracy: 0.9639\n",
      "Epoch 64/100\n",
      "83/83 [==============================] - 6s 71ms/step - loss: 0.0148 - accuracy: 0.9939 - val_loss: 0.2775 - val_accuracy: 0.9639\n",
      "Epoch 65/100\n",
      "83/83 [==============================] - 6s 71ms/step - loss: 0.1470 - accuracy: 0.9650 - val_loss: 0.2289 - val_accuracy: 0.9588\n",
      "Epoch 66/100\n",
      "83/83 [==============================] - 6s 71ms/step - loss: 0.2654 - accuracy: 0.9132 - val_loss: 0.2580 - val_accuracy: 0.9381\n",
      "Epoch 67/100\n",
      "83/83 [==============================] - 6s 70ms/step - loss: 0.1230 - accuracy: 0.9612 - val_loss: 0.3207 - val_accuracy: 0.9381\n",
      "Epoch 68/100\n",
      "83/83 [==============================] - 6s 71ms/step - loss: 0.0507 - accuracy: 0.9817 - val_loss: 0.1484 - val_accuracy: 0.9639\n",
      "Epoch 69/100\n",
      "83/83 [==============================] - 6s 71ms/step - loss: 0.0634 - accuracy: 0.9772 - val_loss: 0.1768 - val_accuracy: 0.9536\n",
      "Epoch 70/100\n",
      "83/83 [==============================] - 6s 70ms/step - loss: 0.0496 - accuracy: 0.9848 - val_loss: 0.1177 - val_accuracy: 0.9639\n",
      "Epoch 71/100\n",
      "83/83 [==============================] - 6s 71ms/step - loss: 0.0313 - accuracy: 0.9916 - val_loss: 0.1406 - val_accuracy: 0.9742\n",
      "Epoch 72/100\n",
      "83/83 [==============================] - 6s 71ms/step - loss: 0.0407 - accuracy: 0.9886 - val_loss: 0.1790 - val_accuracy: 0.9536\n",
      "Epoch 73/100\n",
      "83/83 [==============================] - 6s 71ms/step - loss: 0.0177 - accuracy: 0.9939 - val_loss: 0.1909 - val_accuracy: 0.9588\n",
      "Epoch 74/100\n",
      "83/83 [==============================] - 6s 71ms/step - loss: 0.0256 - accuracy: 0.9939 - val_loss: 0.1775 - val_accuracy: 0.9588\n",
      "Epoch 75/100\n",
      "83/83 [==============================] - 6s 71ms/step - loss: 0.0282 - accuracy: 0.9916 - val_loss: 0.1505 - val_accuracy: 0.9742\n",
      "Epoch 76/100\n",
      "83/83 [==============================] - 6s 70ms/step - loss: 0.0243 - accuracy: 0.9916 - val_loss: 0.1239 - val_accuracy: 0.9742\n",
      "Epoch 77/100\n",
      "83/83 [==============================] - 6s 71ms/step - loss: 0.0079 - accuracy: 0.9985 - val_loss: 0.1359 - val_accuracy: 0.9742\n",
      "Epoch 78/100\n",
      "83/83 [==============================] - 6s 71ms/step - loss: 0.0133 - accuracy: 0.9954 - val_loss: 0.2241 - val_accuracy: 0.9639\n",
      "Epoch 79/100\n",
      "83/83 [==============================] - 6s 74ms/step - loss: 0.0264 - accuracy: 0.9916 - val_loss: 0.1892 - val_accuracy: 0.9639\n",
      "Epoch 80/100\n",
      "83/83 [==============================] - 6s 72ms/step - loss: 0.0107 - accuracy: 0.9954 - val_loss: 0.1908 - val_accuracy: 0.9588\n",
      "Epoch 81/100\n",
      "83/83 [==============================] - 6s 74ms/step - loss: 0.0187 - accuracy: 0.9962 - val_loss: 0.3586 - val_accuracy: 0.9433\n",
      "Epoch 82/100\n",
      "83/83 [==============================] - 6s 72ms/step - loss: 0.0096 - accuracy: 0.9962 - val_loss: 0.2092 - val_accuracy: 0.9588\n",
      "Epoch 83/100\n",
      "83/83 [==============================] - 6s 72ms/step - loss: 0.0094 - accuracy: 0.9962 - val_loss: 0.2230 - val_accuracy: 0.9536\n",
      "Epoch 84/100\n",
      "83/83 [==============================] - 6s 73ms/step - loss: 0.0096 - accuracy: 0.9962 - val_loss: 0.3292 - val_accuracy: 0.9536\n",
      "Epoch 85/100\n",
      "83/83 [==============================] - 6s 72ms/step - loss: 0.0127 - accuracy: 0.9939 - val_loss: 0.2646 - val_accuracy: 0.9536\n",
      "Epoch 86/100\n",
      "83/83 [==============================] - 6s 73ms/step - loss: 0.0089 - accuracy: 0.9954 - val_loss: 0.5584 - val_accuracy: 0.9278\n",
      "Epoch 87/100\n",
      "83/83 [==============================] - 6s 70ms/step - loss: 0.0061 - accuracy: 0.9970 - val_loss: 0.3838 - val_accuracy: 0.9588\n",
      "Epoch 88/100\n",
      "83/83 [==============================] - 6s 72ms/step - loss: 0.0114 - accuracy: 0.9962 - val_loss: 0.3234 - val_accuracy: 0.9536\n",
      "Epoch 89/100\n",
      "83/83 [==============================] - 6s 71ms/step - loss: 0.0070 - accuracy: 0.9977 - val_loss: 0.2557 - val_accuracy: 0.9588\n",
      "Epoch 90/100\n",
      "83/83 [==============================] - 6s 71ms/step - loss: 0.0069 - accuracy: 0.9962 - val_loss: 0.3047 - val_accuracy: 0.9588\n",
      "Epoch 91/100\n",
      "83/83 [==============================] - 6s 75ms/step - loss: 0.0074 - accuracy: 0.9970 - val_loss: 0.2373 - val_accuracy: 0.9639\n",
      "Epoch 92/100\n",
      "83/83 [==============================] - 6s 73ms/step - loss: 0.0136 - accuracy: 0.9939 - val_loss: 0.2557 - val_accuracy: 0.9536\n",
      "Epoch 93/100\n",
      "83/83 [==============================] - 6s 74ms/step - loss: 0.0111 - accuracy: 0.9939 - val_loss: 0.3279 - val_accuracy: 0.9433\n",
      "Epoch 94/100\n",
      "83/83 [==============================] - 6s 73ms/step - loss: 0.1266 - accuracy: 0.9772 - val_loss: 0.2830 - val_accuracy: 0.9691\n",
      "Epoch 95/100\n",
      "83/83 [==============================] - 6s 71ms/step - loss: 0.1140 - accuracy: 0.9779 - val_loss: 0.3873 - val_accuracy: 0.9588\n",
      "Epoch 96/100\n",
      "83/83 [==============================] - 6s 74ms/step - loss: 0.0797 - accuracy: 0.9726 - val_loss: 0.2181 - val_accuracy: 0.9742\n",
      "Epoch 97/100\n",
      "83/83 [==============================] - 6s 74ms/step - loss: 0.0317 - accuracy: 0.9886 - val_loss: 0.1756 - val_accuracy: 0.9639\n",
      "Epoch 98/100\n",
      "83/83 [==============================] - 6s 71ms/step - loss: 0.0281 - accuracy: 0.9878 - val_loss: 0.1765 - val_accuracy: 0.9691\n",
      "Epoch 99/100\n",
      "83/83 [==============================] - 6s 74ms/step - loss: 0.0139 - accuracy: 0.9954 - val_loss: 0.1547 - val_accuracy: 0.9639\n",
      "Epoch 100/100\n",
      "83/83 [==============================] - 6s 72ms/step - loss: 0.0099 - accuracy: 0.9970 - val_loss: 0.1649 - val_accuracy: 0.9691\n"
     ]
    }
   ],
   "source": [
    "cnn=tf.keras.models.Sequential()\n",
    "cnn.add(tf.keras.layers.Conv2D(kernel_size=3,filters=32,input_shape=(150,150,3)))\n",
    "cnn.add(tf.keras.layers.MaxPool2D(pool_size=2,strides=2))\n",
    "cnn.add(tf.keras.layers.Conv2D(kernel_size=3,filters=32))\n",
    "cnn.add(tf.keras.layers.MaxPool2D(pool_size=2,strides=2))\n",
    "cnn.add(tf.keras.layers.Flatten())\n",
    "cnn.add(tf.keras.layers.Dense(units=120,activation='relu'))\n",
    "cnn.add(tf.keras.layers.Dense(units=1,activation='sigmoid'))\n",
    "cnn.compile(optimizer='adam',loss='binary_crossentropy',metrics=['accuracy'])\n",
    "history=cnn.fit(train_dataset,validation_data=test_dataset,epochs=100)"
   ]
  },
  {
   "attachments": {},
   "cell_type": "markdown",
   "metadata": {},
   "source": [
    "# To save Model"
   ]
  },
  {
   "cell_type": "code",
   "execution_count": 5,
   "metadata": {},
   "outputs": [],
   "source": [
    "cnn.save('facemaskmodel.h5')"
   ]
  }
 ],
 "metadata": {
  "kernelspec": {
   "display_name": "mlp",
   "language": "python",
   "name": "python3"
  },
  "language_info": {
   "codemirror_mode": {
    "name": "ipython",
    "version": 3
   },
   "file_extension": ".py",
   "mimetype": "text/x-python",
   "name": "python",
   "nbconvert_exporter": "python",
   "pygments_lexer": "ipython3",
   "version": "3.8.16"
  },
  "orig_nbformat": 4
 },
 "nbformat": 4,
 "nbformat_minor": 2
}
