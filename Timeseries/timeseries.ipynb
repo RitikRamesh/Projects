{
 "cells": [
  {
   "cell_type": "code",
   "execution_count": 1,
   "metadata": {},
   "outputs": [],
   "source": [
    "import pandas as pd\n",
    "import numpy as np"
   ]
  },
  {
   "cell_type": "code",
   "execution_count": 2,
   "metadata": {},
   "outputs": [],
   "source": [
    "df=pd.read_csv('Google_Stock_Price_Train.csv')"
   ]
  },
  {
   "cell_type": "code",
   "execution_count": 3,
   "metadata": {},
   "outputs": [
    {
     "data": {
      "text/html": [
       "<div>\n",
       "<style scoped>\n",
       "    .dataframe tbody tr th:only-of-type {\n",
       "        vertical-align: middle;\n",
       "    }\n",
       "\n",
       "    .dataframe tbody tr th {\n",
       "        vertical-align: top;\n",
       "    }\n",
       "\n",
       "    .dataframe thead th {\n",
       "        text-align: right;\n",
       "    }\n",
       "</style>\n",
       "<table border=\"1\" class=\"dataframe\">\n",
       "  <thead>\n",
       "    <tr style=\"text-align: right;\">\n",
       "      <th></th>\n",
       "      <th>Date</th>\n",
       "      <th>Open</th>\n",
       "      <th>High</th>\n",
       "      <th>Low</th>\n",
       "      <th>Close</th>\n",
       "      <th>Volume</th>\n",
       "    </tr>\n",
       "  </thead>\n",
       "  <tbody>\n",
       "    <tr>\n",
       "      <th>0</th>\n",
       "      <td>1/3/2012</td>\n",
       "      <td>325.25</td>\n",
       "      <td>332.83</td>\n",
       "      <td>324.97</td>\n",
       "      <td>663.59</td>\n",
       "      <td>7,380,500</td>\n",
       "    </tr>\n",
       "    <tr>\n",
       "      <th>1</th>\n",
       "      <td>1/4/2012</td>\n",
       "      <td>331.27</td>\n",
       "      <td>333.87</td>\n",
       "      <td>329.08</td>\n",
       "      <td>666.45</td>\n",
       "      <td>5,749,400</td>\n",
       "    </tr>\n",
       "    <tr>\n",
       "      <th>2</th>\n",
       "      <td>1/5/2012</td>\n",
       "      <td>329.83</td>\n",
       "      <td>330.75</td>\n",
       "      <td>326.89</td>\n",
       "      <td>657.21</td>\n",
       "      <td>6,590,300</td>\n",
       "    </tr>\n",
       "    <tr>\n",
       "      <th>3</th>\n",
       "      <td>1/6/2012</td>\n",
       "      <td>328.34</td>\n",
       "      <td>328.77</td>\n",
       "      <td>323.68</td>\n",
       "      <td>648.24</td>\n",
       "      <td>5,405,900</td>\n",
       "    </tr>\n",
       "    <tr>\n",
       "      <th>4</th>\n",
       "      <td>1/9/2012</td>\n",
       "      <td>322.04</td>\n",
       "      <td>322.29</td>\n",
       "      <td>309.46</td>\n",
       "      <td>620.76</td>\n",
       "      <td>11,688,800</td>\n",
       "    </tr>\n",
       "  </tbody>\n",
       "</table>\n",
       "</div>"
      ],
      "text/plain": [
       "       Date    Open    High     Low   Close      Volume\n",
       "0  1/3/2012  325.25  332.83  324.97  663.59   7,380,500\n",
       "1  1/4/2012  331.27  333.87  329.08  666.45   5,749,400\n",
       "2  1/5/2012  329.83  330.75  326.89  657.21   6,590,300\n",
       "3  1/6/2012  328.34  328.77  323.68  648.24   5,405,900\n",
       "4  1/9/2012  322.04  322.29  309.46  620.76  11,688,800"
      ]
     },
     "execution_count": 3,
     "metadata": {},
     "output_type": "execute_result"
    }
   ],
   "source": [
    "df.head()"
   ]
  },
  {
   "attachments": {},
   "cell_type": "markdown",
   "metadata": {},
   "source": [
    "Time Series data ----> Convert date column into datetime dtype"
   ]
  },
  {
   "cell_type": "code",
   "execution_count": 4,
   "metadata": {},
   "outputs": [],
   "source": [
    "df['Date']= df['Date'].astype('datetime64')\n",
    "df=df.sort_values(by='Date')"
   ]
  },
  {
   "cell_type": "code",
   "execution_count": 5,
   "metadata": {},
   "outputs": [],
   "source": [
    "# df['Day']=df['Date'].dt.day\n",
    "# df['Month']=df['Date'].dt.month\n",
    "# df['Year']=df['Date'].dt.year"
   ]
  },
  {
   "cell_type": "code",
   "execution_count": 6,
   "metadata": {},
   "outputs": [],
   "source": [
    "# df.head()"
   ]
  },
  {
   "attachments": {},
   "cell_type": "markdown",
   "metadata": {},
   "source": [
    "Group by time column<br>\n",
    "grouper"
   ]
  },
  {
   "cell_type": "code",
   "execution_count": 7,
   "metadata": {},
   "outputs": [
    {
     "data": {
      "text/plain": [
       "Date\n",
       "2012-01-31    307.354000\n",
       "2012-07-31    300.943413\n",
       "2013-01-31    349.248240\n",
       "2013-07-31    420.050240\n",
       "2014-01-31    493.398268\n",
       "2014-07-31    566.135920\n",
       "2015-01-31    546.408730\n",
       "2015-07-31    549.064841\n",
       "2016-01-31    687.763600\n",
       "2016-07-31    718.666190\n",
       "2017-01-31    777.552150\n",
       "Freq: 6M, Name: Open, dtype: float64"
      ]
     },
     "execution_count": 7,
     "metadata": {},
     "output_type": "execute_result"
    }
   ],
   "source": [
    "groups = df.groupby(pd.Grouper(key='Date',freq='6m'))\n",
    "groups['Open'].mean()"
   ]
  },
  {
   "attachments": {},
   "cell_type": "markdown",
   "metadata": {},
   "source": [
    "Lonng Short term deeplearning"
   ]
  },
  {
   "attachments": {},
   "cell_type": "markdown",
   "metadata": {},
   "source": [
    "Sample rate no. of days used to predict next price of stocks."
   ]
  },
  {
   "attachments": {},
   "cell_type": "markdown",
   "metadata": {},
   "source": [
    "1 -- 30 days to independent data<br>\n",
    "31st day will be our dependent data"
   ]
  },
  {
   "cell_type": "code",
   "execution_count": 8,
   "metadata": {},
   "outputs": [],
   "source": [
    "X=df['Open']\n",
    "X_train=[]\n",
    "Y_train=[]\n",
    "for i in range(60,len(X)):\n",
    "    X_train.append(X[i-60:i])\n",
    "    Y_train.append(X[i])\n",
    "X_train=np.array(X_train)\n",
    "Y_train=np.array(Y_train)"
   ]
  },
  {
   "cell_type": "code",
   "execution_count": 9,
   "metadata": {},
   "outputs": [],
   "source": [
    "from sklearn.preprocessing import MinMaxScaler\n",
    "scaler=MinMaxScaler()\n",
    "X_train = scaler.fit_transform(X_train)\n",
    "Y_train = scaler.fit_transform(Y_train.reshape(len(Y_train),1))"
   ]
  },
  {
   "attachments": {},
   "cell_type": "markdown",
   "metadata": {},
   "source": [
    "How to learn<br>\n",
    "LSTM --- long short term memory<br>\n",
    "RNN --- Recurrement Neural Network(Not Used currently) -- Vanishing Gradient <br>\n",
    "\n",
    "\n",
    "We have to chage shape (3D)<br>\n",
    "(no. of samples,timesteps,no. of feature)"
   ]
  },
  {
   "cell_type": "code",
   "execution_count": 10,
   "metadata": {},
   "outputs": [],
   "source": [
    "X_train=np.reshape(X_train,(X_train.shape[0],X_train.shape[1],1))"
   ]
  },
  {
   "cell_type": "code",
   "execution_count": 11,
   "metadata": {},
   "outputs": [],
   "source": [
    "import tensorflow as tf"
   ]
  },
  {
   "cell_type": "markdown",
   "metadata": {},
   "source": [
    "never do split on time series analysis"
   ]
  },
  {
   "cell_type": "code",
   "execution_count": 12,
   "metadata": {},
   "outputs": [
    {
     "name": "stdout",
     "output_type": "stream",
     "text": [
      "Epoch 1/100\n",
      "38/38 [==============================] - 6s 41ms/step - loss: 0.0379\n",
      "Epoch 2/100\n",
      "38/38 [==============================] - 1s 21ms/step - loss: 0.0020\n",
      "Epoch 3/100\n",
      "38/38 [==============================] - 1s 21ms/step - loss: 0.0011\n",
      "Epoch 4/100\n",
      "38/38 [==============================] - 1s 23ms/step - loss: 0.0011\n",
      "Epoch 5/100\n",
      "38/38 [==============================] - 1s 21ms/step - loss: 0.0011\n",
      "Epoch 6/100\n",
      "38/38 [==============================] - 1s 20ms/step - loss: 0.0011\n",
      "Epoch 7/100\n",
      "38/38 [==============================] - 1s 22ms/step - loss: 0.0010\n",
      "Epoch 8/100\n",
      "38/38 [==============================] - 1s 22ms/step - loss: 0.0010\n",
      "Epoch 9/100\n",
      "38/38 [==============================] - 1s 20ms/step - loss: 9.9873e-04\n",
      "Epoch 10/100\n",
      "38/38 [==============================] - 1s 19ms/step - loss: 9.9852e-04\n",
      "Epoch 11/100\n",
      "38/38 [==============================] - 1s 23ms/step - loss: 9.6649e-04\n",
      "Epoch 12/100\n",
      "38/38 [==============================] - 1s 25ms/step - loss: 9.8246e-04\n",
      "Epoch 13/100\n",
      "38/38 [==============================] - 1s 23ms/step - loss: 9.2894e-04\n",
      "Epoch 14/100\n",
      "38/38 [==============================] - 1s 21ms/step - loss: 9.6578e-04\n",
      "Epoch 15/100\n",
      "38/38 [==============================] - 1s 21ms/step - loss: 9.2662e-04\n",
      "Epoch 16/100\n",
      "38/38 [==============================] - 1s 20ms/step - loss: 9.0648e-04\n",
      "Epoch 17/100\n",
      "38/38 [==============================] - 1s 20ms/step - loss: 8.4881e-04\n",
      "Epoch 18/100\n",
      "38/38 [==============================] - 1s 20ms/step - loss: 8.2742e-04\n",
      "Epoch 19/100\n",
      "38/38 [==============================] - 1s 19ms/step - loss: 9.2875e-04\n",
      "Epoch 20/100\n",
      "38/38 [==============================] - 1s 19ms/step - loss: 9.3481e-04\n",
      "Epoch 21/100\n",
      "38/38 [==============================] - 1s 20ms/step - loss: 8.0887e-04\n",
      "Epoch 22/100\n",
      "38/38 [==============================] - 1s 22ms/step - loss: 8.4404e-04\n",
      "Epoch 23/100\n",
      "38/38 [==============================] - 1s 21ms/step - loss: 7.7740e-04\n",
      "Epoch 24/100\n",
      "38/38 [==============================] - 1s 21ms/step - loss: 7.9739e-04\n",
      "Epoch 25/100\n",
      "38/38 [==============================] - 1s 20ms/step - loss: 7.5973e-04\n",
      "Epoch 26/100\n",
      "38/38 [==============================] - 1s 19ms/step - loss: 7.7539e-04\n",
      "Epoch 27/100\n",
      "38/38 [==============================] - 1s 20ms/step - loss: 7.1481e-04\n",
      "Epoch 28/100\n",
      "38/38 [==============================] - 1s 19ms/step - loss: 7.8155e-04\n",
      "Epoch 29/100\n",
      "38/38 [==============================] - 1s 20ms/step - loss: 7.8342e-04\n",
      "Epoch 30/100\n",
      "38/38 [==============================] - 1s 20ms/step - loss: 7.2366e-04\n",
      "Epoch 31/100\n",
      "38/38 [==============================] - 1s 20ms/step - loss: 6.7496e-04\n",
      "Epoch 32/100\n",
      "38/38 [==============================] - 1s 21ms/step - loss: 6.7064e-04\n",
      "Epoch 33/100\n",
      "38/38 [==============================] - 1s 22ms/step - loss: 6.3359e-04\n",
      "Epoch 34/100\n",
      "38/38 [==============================] - 1s 20ms/step - loss: 6.2383e-04\n",
      "Epoch 35/100\n",
      "38/38 [==============================] - 1s 21ms/step - loss: 6.2050e-04\n",
      "Epoch 36/100\n",
      "38/38 [==============================] - 1s 19ms/step - loss: 6.3977e-04\n",
      "Epoch 37/100\n",
      "38/38 [==============================] - 1s 20ms/step - loss: 6.3371e-04\n",
      "Epoch 38/100\n",
      "38/38 [==============================] - 1s 20ms/step - loss: 5.9335e-04\n",
      "Epoch 39/100\n",
      "38/38 [==============================] - 1s 20ms/step - loss: 6.1232e-04\n",
      "Epoch 40/100\n",
      "38/38 [==============================] - 1s 20ms/step - loss: 5.7105e-04\n",
      "Epoch 41/100\n",
      "38/38 [==============================] - 1s 20ms/step - loss: 5.7817e-04\n",
      "Epoch 42/100\n",
      "38/38 [==============================] - 1s 20ms/step - loss: 5.7583e-04\n",
      "Epoch 43/100\n",
      "38/38 [==============================] - 1s 20ms/step - loss: 5.2114e-04\n",
      "Epoch 44/100\n",
      "38/38 [==============================] - 1s 22ms/step - loss: 5.1070e-04\n",
      "Epoch 45/100\n",
      "38/38 [==============================] - 1s 22ms/step - loss: 4.9393e-04\n",
      "Epoch 46/100\n",
      "38/38 [==============================] - 1s 20ms/step - loss: 5.1249e-04\n",
      "Epoch 47/100\n",
      "38/38 [==============================] - 1s 20ms/step - loss: 5.1373e-04\n",
      "Epoch 48/100\n",
      "38/38 [==============================] - 1s 20ms/step - loss: 5.0722e-04\n",
      "Epoch 49/100\n",
      "38/38 [==============================] - 1s 20ms/step - loss: 5.0430e-04\n",
      "Epoch 50/100\n",
      "38/38 [==============================] - 1s 21ms/step - loss: 5.1458e-04\n",
      "Epoch 51/100\n",
      "38/38 [==============================] - 1s 20ms/step - loss: 4.3482e-04\n",
      "Epoch 52/100\n",
      "38/38 [==============================] - 1s 21ms/step - loss: 4.3857e-04\n",
      "Epoch 53/100\n",
      "38/38 [==============================] - 1s 22ms/step - loss: 4.3419e-04\n",
      "Epoch 54/100\n",
      "38/38 [==============================] - 1s 20ms/step - loss: 4.6916e-04\n",
      "Epoch 55/100\n",
      "38/38 [==============================] - 1s 19ms/step - loss: 4.7568e-04\n",
      "Epoch 56/100\n",
      "38/38 [==============================] - 1s 22ms/step - loss: 4.0799e-04\n",
      "Epoch 57/100\n",
      "38/38 [==============================] - 1s 20ms/step - loss: 3.9809e-04\n",
      "Epoch 58/100\n",
      "38/38 [==============================] - 1s 22ms/step - loss: 4.1587e-04\n",
      "Epoch 59/100\n",
      "38/38 [==============================] - 1s 21ms/step - loss: 3.9524e-04\n",
      "Epoch 60/100\n",
      "38/38 [==============================] - 1s 21ms/step - loss: 3.9457e-04\n",
      "Epoch 61/100\n",
      "38/38 [==============================] - 1s 21ms/step - loss: 3.9874e-04\n",
      "Epoch 62/100\n",
      "38/38 [==============================] - 1s 20ms/step - loss: 4.0326e-04\n",
      "Epoch 63/100\n",
      "38/38 [==============================] - 1s 19ms/step - loss: 4.3341e-04\n",
      "Epoch 64/100\n",
      "38/38 [==============================] - 1s 19ms/step - loss: 3.6764e-04\n",
      "Epoch 65/100\n",
      "38/38 [==============================] - 1s 18ms/step - loss: 3.6302e-04\n",
      "Epoch 66/100\n",
      "38/38 [==============================] - 1s 19ms/step - loss: 3.7510e-04\n",
      "Epoch 67/100\n",
      "38/38 [==============================] - 1s 18ms/step - loss: 4.1832e-04\n",
      "Epoch 68/100\n",
      "38/38 [==============================] - 1s 19ms/step - loss: 3.6466e-04\n",
      "Epoch 69/100\n",
      "38/38 [==============================] - 1s 18ms/step - loss: 3.9372e-04\n",
      "Epoch 70/100\n",
      "38/38 [==============================] - 1s 19ms/step - loss: 3.7322e-04\n",
      "Epoch 71/100\n",
      "38/38 [==============================] - 1s 20ms/step - loss: 3.6025e-04\n",
      "Epoch 72/100\n",
      "38/38 [==============================] - 1s 20ms/step - loss: 3.2265e-04\n",
      "Epoch 73/100\n",
      "38/38 [==============================] - 1s 19ms/step - loss: 3.2809e-04\n",
      "Epoch 74/100\n",
      "38/38 [==============================] - 1s 18ms/step - loss: 3.3904e-04\n",
      "Epoch 75/100\n",
      "38/38 [==============================] - 1s 18ms/step - loss: 3.2011e-04\n",
      "Epoch 76/100\n",
      "38/38 [==============================] - 1s 19ms/step - loss: 3.2884e-04\n",
      "Epoch 77/100\n",
      "38/38 [==============================] - 1s 21ms/step - loss: 3.3318e-04\n",
      "Epoch 78/100\n",
      "38/38 [==============================] - 1s 20ms/step - loss: 3.2513e-04\n",
      "Epoch 79/100\n",
      "38/38 [==============================] - 1s 21ms/step - loss: 3.3062e-04\n",
      "Epoch 80/100\n",
      "38/38 [==============================] - 1s 18ms/step - loss: 3.4482e-04\n",
      "Epoch 81/100\n",
      "38/38 [==============================] - 1s 20ms/step - loss: 3.4385e-04\n",
      "Epoch 82/100\n",
      "38/38 [==============================] - 1s 18ms/step - loss: 3.7982e-04\n",
      "Epoch 83/100\n",
      "38/38 [==============================] - 1s 18ms/step - loss: 3.0930e-04\n",
      "Epoch 84/100\n",
      "38/38 [==============================] - 1s 18ms/step - loss: 3.1495e-04\n",
      "Epoch 85/100\n",
      "38/38 [==============================] - 1s 18ms/step - loss: 3.0470e-04\n",
      "Epoch 86/100\n",
      "38/38 [==============================] - 1s 19ms/step - loss: 4.2391e-04\n",
      "Epoch 87/100\n",
      "38/38 [==============================] - 1s 19ms/step - loss: 3.0325e-04\n",
      "Epoch 88/100\n",
      "38/38 [==============================] - 1s 19ms/step - loss: 3.0712e-04\n",
      "Epoch 89/100\n",
      "38/38 [==============================] - 1s 18ms/step - loss: 3.2189e-04\n",
      "Epoch 90/100\n",
      "38/38 [==============================] - 1s 18ms/step - loss: 3.1976e-04\n",
      "Epoch 91/100\n",
      "38/38 [==============================] - 1s 18ms/step - loss: 3.0316e-04\n",
      "Epoch 92/100\n",
      "38/38 [==============================] - 1s 18ms/step - loss: 3.0444e-04\n",
      "Epoch 93/100\n",
      "38/38 [==============================] - 1s 18ms/step - loss: 2.9742e-04\n",
      "Epoch 94/100\n",
      "38/38 [==============================] - 1s 18ms/step - loss: 3.2666e-04\n",
      "Epoch 95/100\n",
      "38/38 [==============================] - 1s 18ms/step - loss: 2.9062e-04\n",
      "Epoch 96/100\n",
      "38/38 [==============================] - 1s 18ms/step - loss: 2.8067e-04\n",
      "Epoch 97/100\n",
      "38/38 [==============================] - 1s 18ms/step - loss: 3.3154e-04\n",
      "Epoch 98/100\n",
      "38/38 [==============================] - 1s 18ms/step - loss: 3.2551e-04\n",
      "Epoch 99/100\n",
      "38/38 [==============================] - 1s 18ms/step - loss: 2.8032e-04\n",
      "Epoch 100/100\n",
      "38/38 [==============================] - 1s 18ms/step - loss: 2.8286e-04\n"
     ]
    },
    {
     "data": {
      "text/plain": [
       "<keras.callbacks.History at 0x2ac65bcd0>"
      ]
     },
     "execution_count": 12,
     "metadata": {},
     "output_type": "execute_result"
    }
   ],
   "source": [
    "lstm=tf.keras.models.Sequential()\n",
    "lstm.add(tf.keras.layers.LSTM(units=50,\n",
    "                              input_shape=(X_train.shape[1],1),\n",
    "                              return_sequences=True))\n",
    "lstm.add(tf.keras.layers.LSTM(units=25))\n",
    "lstm.add(tf.keras.layers.Dense(units=1))\n",
    "lstm.compile(optimizer='adam',loss='mse')\n",
    "lstm.fit(X_train,Y_train,batch_size=32,epochs=100)"
   ]
  },
  {
   "cell_type": "markdown",
   "metadata": {},
   "source": [
    "Our sample is not scaled"
   ]
  },
  {
   "cell_type": "code",
   "execution_count": 13,
   "metadata": {},
   "outputs": [
    {
     "name": "stdout",
     "output_type": "stream",
     "text": [
      "38/38 [==============================] - 1s 7ms/step\n"
     ]
    },
    {
     "data": {
      "image/png": "[encoded data removed]",
      "text/plain": [
       "<Figure size 432x288 with 1 Axes>"
      ]
     },
     "metadata": {
      "needs_background": "light"
     },
     "output_type": "display_data"
    }
   ],
   "source": [
    "y_pred=lstm.predict(X_train)\n",
    "from matplotlib import pyplot as plt\n",
    "plt.plot(y_pred)\n",
    "plt.show()"
   ]
  }
 ],
 "metadata": {
  "kernelspec": {
   "display_name": "mlp",
   "language": "python",
   "name": "python3"
  },
  "language_info": {
   "codemirror_mode": {
    "name": "ipython",
    "version": 3
   },
   "file_extension": ".py",
   "mimetype": "text/x-python",
   "name": "python",
   "nbconvert_exporter": "python",
   "pygments_lexer": "ipython3",
   "version": "3.8.16"
  },
  "orig_nbformat": 4
 },
 "nbformat": 4,
 "nbformat_minor": 2
}
